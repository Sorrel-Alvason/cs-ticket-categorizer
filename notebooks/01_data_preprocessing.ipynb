{
 "cells": [
  {
   "cell_type": "markdown",
   "id": "4426a170-a1c2-4ca9-8efe-ceaf9029d17d",
   "metadata": {
    "jp-MarkdownHeadingCollapsed": true,
    "tags": []
   },
   "source": [
    "### Introduction & Notebook Objectives"
   ]
  },
  {
   "cell_type": "code",
   "execution_count": null,
   "id": "5e73d4ec-99d4-4e7f-a0ac-a62f34d1dc9b",
   "metadata": {},
   "outputs": [],
   "source": []
  },
  {
   "cell_type": "markdown",
   "id": "2273491b-f10d-48dd-825d-73d9a8fc8ced",
   "metadata": {
    "jp-MarkdownHeadingCollapsed": true,
    "tags": []
   },
   "source": [
    "### Setup & Install Dependencies"
   ]
  },
  {
   "cell_type": "code",
   "execution_count": null,
   "id": "955804d0-3fd6-4735-808b-4db2c1525e5d",
   "metadata": {},
   "outputs": [],
   "source": [
    "#Install Dependencies\n",
    "!pip install pandas numpy scikit-learn nltk matplotlib seaborn"
   ]
  },
  {
   "cell_type": "code",
   "execution_count": 17,
   "id": "127aa376-8893-4979-b33b-4af60585b6c0",
   "metadata": {},
   "outputs": [
    {
     "name": "stderr",
     "output_type": "stream",
     "text": [
      "From https://github.com/Sorrel-Alvason/cs-ticket-categorizer\n",
      "   cb6e5ee..6e8590a  main       -> origin/main\n"
     ]
    },
    {
     "name": "stdout",
     "output_type": "stream",
     "text": [
      "HEAD is now at 6e8590a Add files via upload\n"
     ]
    }
   ],
   "source": [
    "#pull from get\n",
    "!git fetch origin\n",
    "!git reset --hard origin/main"
   ]
  },
  {
   "cell_type": "code",
   "execution_count": 19,
   "id": "24fc278e-fd9c-4ffe-8271-cc46f45f67e7",
   "metadata": {},
   "outputs": [
    {
     "name": "stdout",
     "output_type": "stream",
     "text": [
      "On branch main\n",
      "Your branch is up to date with 'origin/main'.\n",
      "\n",
      "Changes not staged for commit:\n",
      "  (use \"git add <file>...\" to update what will be committed)\n",
      "  (use \"git restore <file>...\" to discard changes in working directory)\n",
      "\tmodified:   01_data_preprocessing.ipynb\n",
      "\n",
      "no changes added to commit (use \"git add\" and/or \"git commit -a\")\n"
     ]
    },
    {
     "name": "stderr",
     "output_type": "stream",
     "text": [
      "warning: in the working copy of 'notebooks/01_data_preprocessing.ipynb', LF will be replaced by CRLF the next time Git touches it\n"
     ]
    },
    {
     "name": "stdout",
     "output_type": "stream",
     "text": [
      "[main bf585d4] Edited Data Preprocessing Notebook\n",
      " 1 file changed, 170 insertions(+), 7 deletions(-)\n"
     ]
    },
    {
     "name": "stderr",
     "output_type": "stream",
     "text": [
      "To https://github.com/Sorrel-Alvason/cs-ticket-categorizer.git\n",
      "   6e8590a..bf585d4  main -> main\n"
     ]
    }
   ],
   "source": [
    "#push to git\n",
    "!git status\n",
    "!git add 01_data_preprocessing.ipynb\n",
    "!git commit -m \"Edited Data Preprocessing Notebook\"\n",
    "!git push origin main"
   ]
  },
  {
   "cell_type": "markdown",
   "id": "74d2ca8b-e6a6-49b5-9ebb-362c05cddfbe",
   "metadata": {
    "tags": []
   },
   "source": [
    "### Load the Dataset"
   ]
  },
  {
   "cell_type": "markdown",
   "id": "369804ff-0129-4599-9c69-0e50bbca104d",
   "metadata": {
    "tags": []
   },
   "source": [
    "#### Overview\n",
    "In this Section, we will: \n",
    "    Load the dataset from 'dataset-tickets-milti-lang-4-20k.csv'\n",
    "    Display the first few rows to understand its structure. \n",
    "    Filter out the necessary columns ('subject', 'body', 'queue', 'priority')\n",
    "    check for missing values and basic statistics. \n",
    "\n",
    "#### Dataset Description\n",
    "The dataset consists of customer service tickets with the following columns:\n",
    "- **`subject`**: The subject line of the ticket (short summary).\n",
    "- **`body`**: The detailed content of the ticket.\n",
    "- **`queue`**: The category or type of issue the ticket belongs to.\n",
    "- **`priority`**: The urgency level of the ticket.\n",
    "\n",
    "These will be the key inputs (**features**) and outputs (**labels**) for our machine learning model."
   ]
  },
  {
   "cell_type": "code",
   "execution_count": 21,
   "id": "800d4bda-bd74-4666-a531-0bf6eaed2efa",
   "metadata": {},
   "outputs": [
    {
     "name": "stdout",
     "output_type": "stream",
     "text": [
      "Dataset Shape: (20000, 15)\n",
      "Column Names: ['subject', 'body', 'answer', 'type', 'queue', 'priority', 'language', 'tag_1', 'tag_2', 'tag_3', 'tag_4', 'tag_5', 'tag_6', 'tag_7', 'tag_8']\n"
     ]
    },
    {
     "data": {
      "text/html": [
       "<div>\n",
       "<style scoped>\n",
       "    .dataframe tbody tr th:only-of-type {\n",
       "        vertical-align: middle;\n",
       "    }\n",
       "\n",
       "    .dataframe tbody tr th {\n",
       "        vertical-align: top;\n",
       "    }\n",
       "\n",
       "    .dataframe thead th {\n",
       "        text-align: right;\n",
       "    }\n",
       "</style>\n",
       "<table border=\"1\" class=\"dataframe\">\n",
       "  <thead>\n",
       "    <tr style=\"text-align: right;\">\n",
       "      <th></th>\n",
       "      <th>subject</th>\n",
       "      <th>body</th>\n",
       "      <th>queue</th>\n",
       "      <th>priority</th>\n",
       "    </tr>\n",
       "  </thead>\n",
       "  <tbody>\n",
       "    <tr>\n",
       "      <th>0</th>\n",
       "      <td>Unvorhergesehener Absturz der Datenanalyse-Pla...</td>\n",
       "      <td>Die Datenanalyse-Plattform brach unerwartet ab...</td>\n",
       "      <td>General Inquiry</td>\n",
       "      <td>low</td>\n",
       "    </tr>\n",
       "    <tr>\n",
       "      <th>1</th>\n",
       "      <td>Customer Support Inquiry</td>\n",
       "      <td>Seeking information on digital strategies that...</td>\n",
       "      <td>Customer Service</td>\n",
       "      <td>medium</td>\n",
       "    </tr>\n",
       "    <tr>\n",
       "      <th>2</th>\n",
       "      <td>Data Analytics for Investment</td>\n",
       "      <td>I am contacting you to request information on ...</td>\n",
       "      <td>Customer Service</td>\n",
       "      <td>medium</td>\n",
       "    </tr>\n",
       "    <tr>\n",
       "      <th>3</th>\n",
       "      <td>Krankenhaus-Dienstleistung-Problem</td>\n",
       "      <td>Ein Medien-Daten-Sperrverhalten trat aufgrund ...</td>\n",
       "      <td>Customer Service</td>\n",
       "      <td>high</td>\n",
       "    </tr>\n",
       "    <tr>\n",
       "      <th>4</th>\n",
       "      <td>Security</td>\n",
       "      <td>Dear Customer Support, I am reaching out to in...</td>\n",
       "      <td>Customer Service</td>\n",
       "      <td>medium</td>\n",
       "    </tr>\n",
       "  </tbody>\n",
       "</table>\n",
       "</div>"
      ],
      "text/plain": [
       "                                             subject  \\\n",
       "0  Unvorhergesehener Absturz der Datenanalyse-Pla...   \n",
       "1                           Customer Support Inquiry   \n",
       "2                      Data Analytics for Investment   \n",
       "3                 Krankenhaus-Dienstleistung-Problem   \n",
       "4                                           Security   \n",
       "\n",
       "                                                body             queue  \\\n",
       "0  Die Datenanalyse-Plattform brach unerwartet ab...   General Inquiry   \n",
       "1  Seeking information on digital strategies that...  Customer Service   \n",
       "2  I am contacting you to request information on ...  Customer Service   \n",
       "3  Ein Medien-Daten-Sperrverhalten trat aufgrund ...  Customer Service   \n",
       "4  Dear Customer Support, I am reaching out to in...  Customer Service   \n",
       "\n",
       "  priority  \n",
       "0      low  \n",
       "1   medium  \n",
       "2   medium  \n",
       "3     high  \n",
       "4   medium  "
      ]
     },
     "execution_count": 21,
     "metadata": {},
     "output_type": "execute_result"
    }
   ],
   "source": [
    "import pandas as pd\n",
    "\n",
    "# Load dataset\n",
    "df = pd.read_csv(\"../data/dataset-tickets-multi-lang-4-20k.csv\")\n",
    "\n",
    "# Display basic info\n",
    "print(\"Dataset Shape:\", df.shape)\n",
    "print(\"Column Names:\", df.columns.tolist())\n",
    "\n",
    "# Select only relevant columns\n",
    "df = df[['subject', 'body', 'queue', 'priority']]\n",
    "\n",
    "# Show first few rows\n",
    "df.head()"
   ]
  },
  {
   "cell_type": "markdown",
   "id": "095729ac-5cf3-4ff4-93f8-b8c4f9197aac",
   "metadata": {
    "tags": []
   },
   "source": [
    "### Explore and Understand Data"
   ]
  },
  {
   "cell_type": "markdown",
   "id": "e9e19eeb-2eab-45fb-9dff-7a187f2bf54d",
   "metadata": {},
   "source": [
    "#### 3. Inspect the Dataset\n",
    "\n",
    "Before proceeding with preprocessing, we need to understand:\n",
    "- The total number of entries (**shape of the dataset**).\n",
    "- The available columns (**column names**).\n",
    "- Sample rows (**`df.head()`**).\n",
    "- How many missing values are present (**`df.isnull().sum()`**).\n",
    "\n",
    "This helps us determine if any cleaning is necessary before feature engineering.\n"
   ]
  },
  {
   "cell_type": "code",
   "execution_count": 23,
   "id": "6a873d98-e125-4146-8b03-513db0d815e1",
   "metadata": {},
   "outputs": [
    {
     "data": {
      "text/html": [
       "<div>\n",
       "<style scoped>\n",
       "    .dataframe tbody tr th:only-of-type {\n",
       "        vertical-align: middle;\n",
       "    }\n",
       "\n",
       "    .dataframe tbody tr th {\n",
       "        vertical-align: top;\n",
       "    }\n",
       "\n",
       "    .dataframe thead th {\n",
       "        text-align: right;\n",
       "    }\n",
       "</style>\n",
       "<table border=\"1\" class=\"dataframe\">\n",
       "  <thead>\n",
       "    <tr style=\"text-align: right;\">\n",
       "      <th></th>\n",
       "      <th>subject_length</th>\n",
       "      <th>body_length</th>\n",
       "    </tr>\n",
       "  </thead>\n",
       "  <tbody>\n",
       "    <tr>\n",
       "      <th>count</th>\n",
       "      <td>20000.000000</td>\n",
       "      <td>20000.000000</td>\n",
       "    </tr>\n",
       "    <tr>\n",
       "      <th>mean</th>\n",
       "      <td>41.813750</td>\n",
       "      <td>394.438400</td>\n",
       "    </tr>\n",
       "    <tr>\n",
       "      <th>std</th>\n",
       "      <td>21.170191</td>\n",
       "      <td>248.260435</td>\n",
       "    </tr>\n",
       "    <tr>\n",
       "      <th>min</th>\n",
       "      <td>3.000000</td>\n",
       "      <td>3.000000</td>\n",
       "    </tr>\n",
       "    <tr>\n",
       "      <th>25%</th>\n",
       "      <td>31.000000</td>\n",
       "      <td>198.000000</td>\n",
       "    </tr>\n",
       "    <tr>\n",
       "      <th>50%</th>\n",
       "      <td>41.000000</td>\n",
       "      <td>357.000000</td>\n",
       "    </tr>\n",
       "    <tr>\n",
       "      <th>75%</th>\n",
       "      <td>53.000000</td>\n",
       "      <td>555.000000</td>\n",
       "    </tr>\n",
       "    <tr>\n",
       "      <th>max</th>\n",
       "      <td>412.000000</td>\n",
       "      <td>2259.000000</td>\n",
       "    </tr>\n",
       "  </tbody>\n",
       "</table>\n",
       "</div>"
      ],
      "text/plain": [
       "       subject_length   body_length\n",
       "count    20000.000000  20000.000000\n",
       "mean        41.813750    394.438400\n",
       "std         21.170191    248.260435\n",
       "min          3.000000      3.000000\n",
       "25%         31.000000    198.000000\n",
       "50%         41.000000    357.000000\n",
       "75%         53.000000    555.000000\n",
       "max        412.000000   2259.000000"
      ]
     },
     "execution_count": 23,
     "metadata": {},
     "output_type": "execute_result"
    }
   ],
   "source": [
    "# Check for missing values\n",
    "df.isnull().sum()\n",
    "\n",
    "# Basic statistics for text length (subject and body)\n",
    "df['subject_length'] = df['subject'].apply(lambda x: len(str(x)))\n",
    "df['body_length'] = df['body'].apply(lambda x: len(str(x)))\n",
    "\n",
    "df[['subject_length', 'body_length']].describe()"
   ]
  },
  {
   "cell_type": "markdown",
   "id": "38375f4a-6914-4960-b9c1-afd242eca30a",
   "metadata": {
    "tags": []
   },
   "source": [
    "### Clean and Preprocess Text Data"
   ]
  },
  {
   "cell_type": "markdown",
   "id": "213f57a7-f511-4c74-8aee-f009ea6f7c10",
   "metadata": {
    "tags": []
   },
   "source": [
    "### Tokenization"
   ]
  },
  {
   "cell_type": "markdown",
   "id": "8ae06831-7d31-4d74-8092-03e6aa607ba8",
   "metadata": {
    "tags": []
   },
   "source": [
    "### Stemming/lemmatization"
   ]
  },
  {
   "cell_type": "markdown",
   "id": "1abc2afe-3699-4a6a-bd18-ad17271076e4",
   "metadata": {
    "tags": []
   },
   "source": [
    "### Saving the Cleaned Dataset"
   ]
  },
  {
   "cell_type": "code",
   "execution_count": null,
   "id": "26f908e1-b389-4f6b-b393-9215ba18fcea",
   "metadata": {},
   "outputs": [],
   "source": []
  }
 ],
 "metadata": {
  "kernelspec": {
   "display_name": "Python 3 (ipykernel)",
   "language": "python",
   "name": "python3"
  },
  "language_info": {
   "codemirror_mode": {
    "name": "ipython",
    "version": 3
   },
   "file_extension": ".py",
   "mimetype": "text/x-python",
   "name": "python",
   "nbconvert_exporter": "python",
   "pygments_lexer": "ipython3",
   "version": "3.9.13"
  }
 },
 "nbformat": 4,
 "nbformat_minor": 5
}
