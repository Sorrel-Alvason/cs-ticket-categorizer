{
 "cells": [
  {
   "cell_type": "markdown",
   "id": "fa198327-bd17-4d10-8656-a30353adc7a5",
   "metadata": {
    "tags": []
   },
   "source": [
    "### Introduction & Notebook Objectives"
   ]
  },
  {
   "cell_type": "markdown",
   "id": "f0e0a075-bd2c-4730-8a9f-0b6c79061391",
   "metadata": {},
   "source": [
    "The focus of this notebook is to convert cleaned text into numerical features for machine learning."
   ]
  },
  {
   "cell_type": "markdown",
   "id": "58c9d054-040e-4423-b4c7-3927e989367e",
   "metadata": {},
   "source": [
    "### Get Pull/Push"
   ]
  },
  {
   "cell_type": "code",
   "execution_count": null,
   "id": "91560f5f-d788-49ea-a0cd-1d8b65bc39bb",
   "metadata": {},
   "outputs": [],
   "source": [
    "#pull from get\n",
    "!git fetch origin\n",
    "!git reset --hard origin/main"
   ]
  },
  {
   "cell_type": "code",
   "execution_count": 2,
   "id": "9063739d-46f4-4095-9f6d-79cdf2f13272",
   "metadata": {},
   "outputs": [
    {
     "name": "stdout",
     "output_type": "stream",
     "text": [
      "On branch main\n",
      "Your branch is up to date with 'origin/main'.\n",
      "\n",
      "Changes not staged for commit:\n",
      "  (use \"git add <file>...\" to update what will be committed)\n",
      "  (use \"git restore <file>...\" to discard changes in working directory)\n",
      "\tmodified:   01_data_preprocessing.ipynb\n",
      "\tmodified:   02_feature_engineering.ipynb\n",
      "\n",
      "no changes added to commit (use \"git add\" and/or \"git commit -a\")\n"
     ]
    },
    {
     "name": "stderr",
     "output_type": "stream",
     "text": [
      "warning: in the working copy of 'notebooks/02_feature_engineering.ipynb', LF will be replaced by CRLF the next time Git touches it\n"
     ]
    },
    {
     "name": "stdout",
     "output_type": "stream",
     "text": [
      "[main 2530abe] Edited Feature Engineering notebook\n",
      " 1 file changed, 123 insertions(+), 1 deletion(-)\n"
     ]
    },
    {
     "name": "stderr",
     "output_type": "stream",
     "text": [
      "To https://github.com/Sorrel-Alvason/cs-ticket-categorizer.git\n",
      "   bbb8869..2530abe  main -> main\n"
     ]
    }
   ],
   "source": [
    "#push to git\n",
    "!git status\n",
    "!git add 02_feature_engineering.ipynb\n",
    "!git commit -m \"Edited Feature Engineering notebook\"\n",
    "!git push origin main"
   ]
  },
  {
   "cell_type": "markdown",
   "id": "aad35135-122d-4dbe-8a01-9a8de8bb738b",
   "metadata": {
    "jp-MarkdownHeadingCollapsed": true,
    "tags": []
   },
   "source": [
    "### Load the Cleaned Dataset"
   ]
  },
  {
   "cell_type": "markdown",
   "id": "ab1d4ed3-dc88-4346-8ad9-6d4553f76701",
   "metadata": {
    "tags": []
   },
   "source": [
    "### Feature Engineering Methods"
   ]
  },
  {
   "cell_type": "markdown",
   "id": "fe5bbc82-388d-4699-8e55-f60211806f99",
   "metadata": {},
   "source": [
    "Potentially explore:\\\n",
    "    **TF-IDF** (Term Frequency-Inverse Document Frequency) \\\n",
    "    **Bag-of-Words** (CountVectorizer) \\\n",
    "    **Word Embeddings** (Word2Vec, FastText, BERT)\n",
    "\n",
    "*Note: the AI course TXTDS 498 shows that alBERTa may be the best model on accuracy, precision, and other qualifiers.* \\\n",
    "*I should look into this before proceeding*"
   ]
  },
  {
   "cell_type": "markdown",
   "id": "b1fdd8c8-8dc2-4680-9c44-c98cce3c9583",
   "metadata": {
    "tags": []
   },
   "source": [
    "### Normalization"
   ]
  },
  {
   "cell_type": "code",
   "execution_count": null,
   "id": "7fb5e1e9-d984-46d6-bea2-2cd5c7ae5f3c",
   "metadata": {},
   "outputs": [],
   "source": [
    "Do we want to do L2 Normalization or Min-Max Scaling?"
   ]
  },
  {
   "cell_type": "markdown",
   "id": "0dfd6e9b-a2a1-40a8-b169-2aa8ae35c819",
   "metadata": {},
   "source": [
    "### Standardization"
   ]
  },
  {
   "cell_type": "markdown",
   "id": "1e23b4cd-450d-4074-8ee7-e9091637a98c",
   "metadata": {},
   "source": [
    "### Feature Selection & Dimensionality Reduction"
   ]
  },
  {
   "cell_type": "markdown",
   "id": "bc1ba3b9-26b0-4dde-b6f6-609ad3c48265",
   "metadata": {
    "jp-MarkdownHeadingCollapsed": true,
    "tags": []
   },
   "source": [
    "### Save Transformed Data"
   ]
  },
  {
   "cell_type": "markdown",
   "id": "63fffd4c-6c5b-408e-8a32-f55a61e783fc",
   "metadata": {},
   "source": [
    "### Conclusion & Next Steps"
   ]
  },
  {
   "cell_type": "code",
   "execution_count": null,
   "id": "1bdb00a8-2507-4c86-bc3c-56d4e7b49235",
   "metadata": {},
   "outputs": [],
   "source": []
  }
 ],
 "metadata": {
  "kernelspec": {
   "display_name": "Python 3 (ipykernel)",
   "language": "python",
   "name": "python3"
  },
  "language_info": {
   "codemirror_mode": {
    "name": "ipython",
    "version": 3
   },
   "file_extension": ".py",
   "mimetype": "text/x-python",
   "name": "python",
   "nbconvert_exporter": "python",
   "pygments_lexer": "ipython3",
   "version": "3.9.13"
  }
 },
 "nbformat": 4,
 "nbformat_minor": 5
}
