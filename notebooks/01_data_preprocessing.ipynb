{
 "cells": [
  {
   "cell_type": "code",
   "execution_count": null,
   "id": "66a9a3f0-7d7e-4a47-a6e4-83738b95d973",
   "metadata": {},
   "outputs": [],
   "source": [
    "##Install Dependencies\n",
    "!pip install pandas numpy scikit-learn nltk matplotlib seaborn"
   ]
  },
  {
   "cell_type": "code",
   "execution_count": 6,
   "id": "305ff8ef-c6c7-4606-9655-43fc5cc544ed",
   "metadata": {},
   "outputs": [
    {
     "name": "stdout",
     "output_type": "stream",
     "text": [
      "HEAD is now at d6a3d47 Initial JuyperLab Notebooks\n"
     ]
    }
   ],
   "source": [
    "!git fetch origin\n",
    "!git reset --hard origin/main"
   ]
  },
  {
   "cell_type": "code",
   "execution_count": 4,
   "id": "0deb702f-7203-40eb-a7f8-ac2552c1bee8",
   "metadata": {},
   "outputs": [
    {
     "name": "stdout",
     "output_type": "stream",
     "text": [
      "On branch main\n",
      "Your branch is ahead of 'origin/main' by 1 commit.\n",
      "  (use \"git push\" to publish your local commits)\n",
      "\n",
      "Untracked files:\n",
      "  (use \"git add <file>...\" to include in what will be committed)\n",
      "\t02_feature_engineering.ipynb\n",
      "\t03_model_training.ipynb\n",
      "\t04_model_evaluation.ipynb\n",
      "\n",
      "nothing added to commit but untracked files present (use \"git add\" to track)\n",
      "On branch main\n",
      "Your branch is ahead of 'origin/main' by 1 commit.\n",
      "  (use \"git push\" to publish your local commits)\n",
      "\n",
      "Untracked files:\n",
      "  (use \"git add <file>...\" to include in what will be committed)\n",
      "\t02_feature_engineering.ipynb\n",
      "\t03_model_training.ipynb\n",
      "\t04_model_evaluation.ipynb\n",
      "\n",
      "nothing added to commit but untracked files present (use \"git add\" to track)\n"
     ]
    },
    {
     "name": "stderr",
     "output_type": "stream",
     "text": [
      "From https://github.com/Sorrel-Alvason/cs-ticket-categorizer\n",
      " * branch            main       -> FETCH_HEAD\n",
      "   4a0fa79..d6a3d47  main       -> origin/main\n",
      "error: The following untracked working tree files would be overwritten by merge:\n",
      "\tnotebooks/02_feature_engineering.ipynb\n",
      "\tnotebooks/03_model_training.ipynb\n",
      "\tnotebooks/04_model_evaluation.ipynb\n",
      "Please move or remove them before you merge.\n",
      "Aborting\n",
      "Merge with strategy ort failed.\n",
      "To https://github.com/Sorrel-Alvason/cs-ticket-categorizer.git\n",
      " ! [rejected]        main -> main (non-fast-forward)\n",
      "error: failed to push some refs to 'https://github.com/Sorrel-Alvason/cs-ticket-categorizer.git'\n",
      "hint: Updates were rejected because the tip of your current branch is behind\n",
      "hint: its remote counterpart. If you want to integrate the remote changes,\n",
      "hint: use 'git pull' before pushing again.\n",
      "hint: See the 'Note about fast-forwards' in 'git push --help' for details.\n"
     ]
    }
   ],
   "source": [
    "##push to git\n",
    "!git status\n",
    "!git add 01_data_preprocessing.ipynb\n",
    "!git commit -m \"Added data preprocessing notebook\"\n",
    "!git push origin main"
   ]
  },
  {
   "cell_type": "code",
   "execution_count": null,
   "id": "2eb46bf3-97e7-4c92-ac32-acef383aa60e",
   "metadata": {},
   "outputs": [],
   "source": []
  }
 ],
 "metadata": {
  "kernelspec": {
   "display_name": "Python 3 (ipykernel)",
   "language": "python",
   "name": "python3"
  },
  "language_info": {
   "codemirror_mode": {
    "name": "ipython",
    "version": 3
   },
   "file_extension": ".py",
   "mimetype": "text/x-python",
   "name": "python",
   "nbconvert_exporter": "python",
   "pygments_lexer": "ipython3",
   "version": "3.9.13"
  }
 },
 "nbformat": 4,
 "nbformat_minor": 5
}
