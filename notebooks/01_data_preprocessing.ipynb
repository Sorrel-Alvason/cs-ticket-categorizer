{
 "cells": [
  {
   "cell_type": "markdown",
   "id": "4426a170-a1c2-4ca9-8efe-ceaf9029d17d",
   "metadata": {
    "tags": []
   },
   "source": [
    "### Introduction & Notebook Objectives"
   ]
  },
  {
   "cell_type": "code",
   "execution_count": null,
   "id": "5e73d4ec-99d4-4e7f-a0ac-a62f34d1dc9b",
   "metadata": {},
   "outputs": [],
   "source": []
  },
  {
   "cell_type": "markdown",
   "id": "2273491b-f10d-48dd-825d-73d9a8fc8ced",
   "metadata": {
    "tags": []
   },
   "source": [
    "### Setup & Install Dependencies"
   ]
  },
  {
   "cell_type": "code",
   "execution_count": null,
   "id": "127aa376-8893-4979-b33b-4af60585b6c0",
   "metadata": {},
   "outputs": [],
   "source": [
    "#pull from g\n",
    "!git fetch origin\n",
    "!git reset --hard origin/main"
   ]
  },
  {
   "cell_type": "code",
   "execution_count": null,
   "id": "955804d0-3fd6-4735-808b-4db2c1525e5d",
   "metadata": {},
   "outputs": [],
   "source": [
    "##Install Dependencies\n",
    "!pip install pandas numpy scikit-learn nltk matplotlib seaborn"
   ]
  },
  {
   "cell_type": "markdown",
   "id": "74d2ca8b-e6a6-49b5-9ebb-362c05cddfbe",
   "metadata": {
    "tags": []
   },
   "source": [
    "### Load the Dataset"
   ]
  },
  {
   "cell_type": "markdown",
   "id": "095729ac-5cf3-4ff4-93f8-b8c4f9197aac",
   "metadata": {
    "tags": []
   },
   "source": [
    "### Explore and Understand Data"
   ]
  },
  {
   "cell_type": "markdown",
   "id": "38375f4a-6914-4960-b9c1-afd242eca30a",
   "metadata": {
    "tags": []
   },
   "source": [
    "### Clean and Preprocess Text Data"
   ]
  },
  {
   "cell_type": "markdown",
   "id": "213f57a7-f511-4c74-8aee-f009ea6f7c10",
   "metadata": {
    "tags": []
   },
   "source": [
    "### Tokenization"
   ]
  },
  {
   "cell_type": "markdown",
   "id": "8ae06831-7d31-4d74-8092-03e6aa607ba8",
   "metadata": {
    "tags": []
   },
   "source": [
    "### Stemming/lemmatization"
   ]
  },
  {
   "cell_type": "markdown",
   "id": "1abc2afe-3699-4a6a-bd18-ad17271076e4",
   "metadata": {
    "tags": []
   },
   "source": [
    "### Saving the Cleaned Dataset"
   ]
  }
 ],
 "metadata": {
  "kernelspec": {
   "display_name": "Python 3 (ipykernel)",
   "language": "python",
   "name": "python3"
  },
  "language_info": {
   "codemirror_mode": {
    "name": "ipython",
    "version": 3
   },
   "file_extension": ".py",
   "mimetype": "text/x-python",
   "name": "python",
   "nbconvert_exporter": "python",
   "pygments_lexer": "ipython3",
   "version": "3.9.13"
  }
 },
 "nbformat": 4,
 "nbformat_minor": 5
}
